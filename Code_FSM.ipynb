{
 "cells": [
  {
   "cell_type": "markdown",
   "metadata": {},
   "source": [
    "\n",
    "\n",
    "# Best Model for Flood Susceptibility Mapping\n",
    " This notebook demonstrates loading and using our best-performing Kolmogorov-Arnold Network (KAN) model for Flood Susceptibility Mapping (FSM). The model architecture integrates Boubaker polynomials as basis functions within the KAN framework, showing superior performance compared to traditional deep learning approaches.\n",
    "\n",
    "\n",
    "\n",
    "\n",
    "# Architecture: BoubakerKAN (Boubaker Kolmogorov-Arnold Network)\n",
    "Framework: PyTorch\n",
    "\n",
    "Input Features:\n",
    "\n",
    "Topographic: Elevation, Slope, Aspect, TPI (Topographic Position Index)\n",
    "\n",
    "Hydrological: TWI (Topographic Wetness Index), HOFD (Horizontal Overland Flow Distance), FA (Flow Accumulation), MCA (Modified Catchment Area)\n",
    "\n",
    "Environmental: LULC (Land Use Land Cover), NDVI (Normalized Difference Vegetation Index)\n",
    "\n",
    "Climate/Soil: MFI (Modified Fournier Index), CN (Curve Number)\n",
    "\n",
    "Other: CSC (Cross-Sectional Curvature), LC (Longitudinal Curvature), CI (Convergence Index)\n",
    "\n",
    "\n",
    "\n",
    "Output: Flood susceptibility probability (0-1)"
   ]
  },
  {
   "cell_type": "markdown",
   "metadata": {},
   "source": [
    "# **Load Packages**"
   ]
  },
  {
   "cell_type": "code",
   "execution_count": 29,
   "metadata": {
    "colab": {
     "base_uri": "https://localhost:8080/",
     "height": 131
    },
    "id": "BdlvkOpB1Wib",
    "outputId": "8f2eb9ed-0606-4d69-c5b5-0e7b3435911e"
   },
   "outputs": [],
   "source": [
    "import torch\n",
    "import torch.nn as nn\n",
    "import cloudpickle\n",
    "import os\n",
    "os.environ['CUDA_VISIBLE_DEVICES'] = '0'\n",
    "device = torch.device('cuda' if torch.cuda.is_available() else 'cpu')"
   ]
  },
  {
   "cell_type": "markdown",
   "metadata": {},
   "source": [
    "# **Load Model**"
   ]
  },
  {
   "cell_type": "code",
   "execution_count": 32,
   "metadata": {},
   "outputs": [
    {
     "name": "stdout",
     "output_type": "stream",
     "text": [
      "Model loaded successfully\n"
     ]
    }
   ],
   "source": [
    "with open('VietaPellKan.pkl', 'rb') as f:\n",
    "   VietaPellKan = cloudpickle.load(f)\n",
    "VietaPellKan.eval()\n",
    "\n",
    "\n",
    "with open('BoubakerKan.pkl', 'rb') as f:\n",
    "   BoubakerKan = cloudpickle.load(f)\n",
    "BoubakerKan.eval()\n",
    "\n",
    "\n",
    "with open('ChebyKan.pkl', 'rb') as f:\n",
    "   ChebyKan = cloudpickle.load(f)\n",
    "ChebyKan.eval()\n",
    "\n",
    "\n",
    "print(\"Model loaded successfully\")\n"
   ]
  },
  {
   "cell_type": "code",
   "execution_count": null,
   "metadata": {},
   "outputs": [],
   "source": []
  }
 ],
 "metadata": {
  "accelerator": "TPU",
  "colab": {
   "collapsed_sections": [],
   "machine_shape": "hm",
   "name": "ISPRS-2020-HyperspectralChange DetectionUSA.ipynb",
   "provenance": []
  },
  "kernelspec": {
   "display_name": "Python 3",
   "language": "python",
   "name": "python3"
  },
  "language_info": {
   "codemirror_mode": {
    "name": "ipython",
    "version": 3
   },
   "file_extension": ".py",
   "mimetype": "text/x-python",
   "name": "python",
   "nbconvert_exporter": "python",
   "pygments_lexer": "ipython3",
   "version": "3.10.15"
  }
 },
 "nbformat": 4,
 "nbformat_minor": 4
}
